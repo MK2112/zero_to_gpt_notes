{
 "cells": [
  {
   "cell_type": "markdown",
   "metadata": {},
   "source": [
    "# Introduction\n",
    "\n",
    "Welcome to the Zero to GPT course! This course will take you from no deep learning knowledge to being able to build and train your own GPT model.<br>\n",
    "At a high level, GPT works by predicting what words should come after your prompt. Here's an example of some text you can feed into GPT, and a response:\n",
    "\n",
    "<div style=\"text-align:center;\">\n",
    "    <img src=\"../images/intro/gpt_text.svg\" alt=\"GPT Text\">\n",
    "</div>"
   ]
  },
  {
   "cell_type": "markdown",
   "metadata": {
    "collapsed": false
   },
   "source": [
    "GPT models are types of deep learning models. Deep learning is a subfield of machine learning, which in turn is a subfield of AI.<br>\n",
    "In deep learning, we train a neural network composed of many layers to transform an input into an output.\n",
    "\n",
    "Neural networks can't understand text directly, so GPT has to convert your prompt to numbers, make predictions, then convert the predictions back to text.<br>\n",
    "The process works like this at a very high level:\n",
    "\n",
    "<div style=\"text-align:center;\">\n",
    "    <img src=\"../images/intro/gpt_steps.svg\" alt=\"GPT Steps\">\n",
    "</div>"
   ]
  },
  {
   "cell_type": "markdown",
   "metadata": {
    "collapsed": false
   },
   "source": [
    "**The key part of GPT is the prediction step**, where the network predicts what words will come next. To do this, the network uses its parameters.<br>\n",
    "You can think of parameters like memory. This memory has been trained on a lot of data (gigabytes or terabytes).<br>\n",
    "Parameters enable neural networks to make accurate predictions about what should come after your prompt.\n",
    "\n",
    "The smallest GPT models have around 100M parameters, and the largest known ones have 176B.<br>\n",
    "They use parameters to transform your input to predictions - usually by adding the parameters to your input, or multiplying your input by the parameters.\n",
    "\n",
    "By the end of this course, you will understand how to train deep neural networks that work like GPT.<br>\n",
    "This course is split into three parts:\n",
    "\n",
    "1. Understanding deep learning - how to create and train deep neural networks, including gradient descent and backpropagation.\n",
    "2. Deep learning for NLP - deep learning architectures to work with text, including RNNs, encoder/decoders, attention, and transformers.\n",
    "3. Scaling up models - putting together the building blocks to train a model with a large number of parameters.\n",
    "\n",
    "Check out the [README](../README.md) for a full lesson overview."
   ]
  },
  {
   "cell_type": "markdown",
   "metadata": {
    "collapsed": false
   },
   "source": [
    "## Teaching method\n",
    "\n",
    "This course will get you ready to do hands-on, meaningful work with deep learning.<br>\n",
    "We'll balance theory and practical application. Without theory, you won't understand how to apply deep learning in the real world.<br>\n",
    "**But theory shouldn't overwhelm - it should aid you in actually doing the work.**\n",
    "\n",
    "In each lesson, you'll learn the theory behind what you're doing, and code *complete implementations that solve problems*.<br>\n",
    "For example, in the dense neural networks lesson, you'll learn the fundamental theory - backpropagation, why nonlinearities are essential, and how multiple layers work.<br>\n",
    "Then you'll code a complete neural network using NumPy to predict the weather.\n",
    "\n",
    "I'll explain concepts in multiple ways - diagrams, text, code, and video.<br>\n",
    "**Deep learning is complicated, and it can take multiple explanations before a concept clicks.**\n",
    "\n",
    "### What this course is not\n",
    "\n",
    "- This is **not a course where you'll just import PyTorch** and type code without understanding what you're doing. We'll build up your knowledge step by step.\n",
    "- This is **not a mathematically rigorous course**. We'll include the math, but we'll focus on building intuition and understanding first.\n",
    "\n",
    "For a mathematically rigorous resource, I recommend the [deep learning book](https://www.deeplearningbook.org/)."
   ]
  },
  {
   "cell_type": "markdown",
   "metadata": {
    "collapsed": false
   },
   "source": [
    "## Who am I?\n",
    "\n",
    "My name is Vik Paruchuri.  I've won ML competitions, worked as an ML engineer, and started Dataquest, which has taught data skills to 1M+ people.<br>\n",
    "Before all that, I was a self-taught programmer who dreamed of predicting the stock market.\n",
    "\n",
    "This course is for anyone dreaming of building their own deep learning models."
   ]
  },
  {
   "cell_type": "markdown",
   "metadata": {
    "collapsed": false
   },
   "source": [
    "## Prerequisites\n",
    "\n",
    "This course is designed to be accessible, with as few prereqs as possible:\n",
    "\n",
    "- You'll need to understand Python to take this course, including for loops, functions, and classes.  The first part of [this Dataquest path](https://www.dataquest.io/path/data-scientist/) will teach you what you need.\n",
    "- Experience with [NumPy](https://www.dataquest.io/course/pandas-fundamentals) and linear algebra are also necessary.  If you don't have any experience, we'll cover the basics in the [next lesson](../1-Math_and_Numpy/linalg.ipynb).\n",
    "\n",
    "If you already know NumPy and the basics of linear algebra, feel free to skip to the [next lesson](../1-Math_and_Numpy/linalg.ipynb)."
   ]
  }
 ],
 "metadata": {
  "kernelspec": {
   "display_name": "Python 3 (ipykernel)",
   "language": "python",
   "name": "python3"
  },
  "language_info": {
   "codemirror_mode": {
    "name": "ipython",
    "version": 3
   },
   "file_extension": ".py",
   "mimetype": "text/x-python",
   "name": "python",
   "nbconvert_exporter": "python",
   "pygments_lexer": "ipython3",
   "version": "3.12.2"
  }
 },
 "nbformat": 4,
 "nbformat_minor": 1
}

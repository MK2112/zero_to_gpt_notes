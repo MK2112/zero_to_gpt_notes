{
 "cells": [
  {
   "cell_type": "markdown",
   "metadata": {},
   "source": [
    "# Recurrent Neural Networks\n",
    "\n",
    "---\n",
    "\n",
    "*You can watch a [video](https://youtu.be/4wuIOcD1LLI) of this lesson if you prefer.*\n",
    "\n",
    "---\n",
    "\n",
    "## Table of Contents\n",
    "\n",
    "- [Introduction](#Introduction)\n",
    "- [The RNN Architecture](#The-RNN-Architecture)\n",
    "\t- [RNN Operations](#RNN-Operations)\n",
    "\t- [Forward Pass](#Forward-Pass)\n",
    "\t\t- [Nonlinearity](#Nonlinearity)\n",
    "\t\t- [Full Forward Pass](#Full-Forward-Pass)\n",
    "\t- [Calculating the Loss](#Calculating-the-Loss)\n",
    "\t- [Backward Pass](#Backward-Pass)\n",
    "\t\t- [Full Backward Pass](#Full-Backward-Pass)\n",
    "- [Full Implementation](#Full-Implementation)\n",
    "- [Wrap-up](#Wrap-up)\n",
    "\n",
    "## Introduction\n",
    "\n",
    "In the [last lesson](../4-Classification/classification.ipynb), we learned how to use a neural network to perform classification.<br>\n",
    "This is one important piece of using a neural network to do NLP (natural language processing).\n",
    "\n",
    "In this lesson, we'll learn another important piece - how to use neural networks to take in sequences of input and make predictions.<br>\n",
    "A sequence of input can be a sentence made up of words, or a series of weather observations.\n",
    "\n",
    "Each element in a sequence has a position.  We can think of those positions as being steps in time."
   ]
  },
  {
   "cell_type": "markdown",
   "metadata": {},
   "source": [
    "Here is a sequence of temperatures:"
   ]
  },
  {
   "cell_type": "code",
   "execution_count": 1,
   "metadata": {},
   "outputs": [],
   "source": [
    "import math\n",
    "import pandas as pd\n",
    "import numpy as np\n",
    "import matplotlib.pyplot as plt\n",
    "from sklearn.preprocessing import StandardScaler\n",
    "from sympy import diff, symbols, exp\n",
    "\n",
    "import warnings\n",
    "warnings.simplefilter(action='ignore', category=FutureWarning)"
   ]
  },
  {
   "cell_type": "code",
   "execution_count": 2,
   "metadata": {},
   "outputs": [
    {
     "name": "stdout",
     "output_type": "stream",
     "text": [
      "1970-01-01    60.0\n",
      "1970-01-02    52.0\n",
      "1970-01-03    52.0\n",
      "1970-01-04    53.0\n",
      "1970-01-05    52.0\n",
      "1970-01-06    50.0\n",
      "1970-01-07    52.0\n",
      "1970-01-08    56.0\n",
      "1970-01-09    54.0\n",
      "1970-01-10    57.0\n",
      "Name: tmax, dtype: float64 \n",
      "\n",
      "Dataset Size: 13509\n"
     ]
    }
   ],
   "source": [
    "# Read in weather data, fill missing values\n",
    "data = pd.read_csv(\"../data/clean_weather.csv\", index_col=0)\n",
    "data = data.ffill()\n",
    "\n",
    "# First 10 data entries\n",
    "print(data[\"tmax\"].head(10), \"\\n\")\n",
    "print('Dataset Size:', len(data))"
   ]
  },
  {
   "cell_type": "markdown",
   "metadata": {},
   "source": [
    "The first sequence element (at time step $0$) is $60$.<br>\n",
    "The second sequence element (at time step $1$) is $52$, and so on.<br>\n",
    "In total, there are $13509$ timesteps in this sequence dataset, all **sequentially related**.\n",
    "\n",
    "Let's say we want to predict a *next element* within a sequence. Specifically, for our above sequence,<br>\n",
    "we want to predict the value of time step $10$ from the preceeding steps.\n",
    "\n",
    "With a standard dense neural network, you would have to treat each input feature *seperately*.<br>\n",
    "Therefore, it becomes a question of what exactly to input into the network.<br>\n",
    "One time step? Two time steps? The entire sequence?\n",
    "\n",
    "Let's follow the path of using a dense neural network here:"
   ]
  },
  {
   "cell_type": "code",
   "execution_count": 3,
   "metadata": {},
   "outputs": [
    {
     "name": "stdout",
     "output_type": "stream",
     "text": [
      "[[60. 52. 52. 53. 52. 50. 52. 56. 54. 57.]]\n"
     ]
    }
   ],
   "source": [
    "# Turn our sequence into a single row of data\n",
    "print(data[\"tmax\"].head(10).to_numpy()[np.newaxis,:])"
   ]
  },
  {
   "cell_type": "markdown",
   "metadata": {},
   "source": [
    "As stated prior, we could for example feed the entire sequence as a single training example into a neural network to predict the next temperature.<br>\n",
    "**But what if we don't know the length of the sequence beforehand?**<br>\n",
    "For example, what if we wanted the neural network to predict the next word that came after a variable-length prompt?\n",
    "\n",
    "We could have prompts like:\n",
    "- `Write me a song`\n",
    "- `Tell me a story about dinosaurs`\n",
    "- `Add 1 and 2`\n",
    "\n",
    "We want our network to be able to handle these different inputs robustly.<br>\n",
    "One way to do this is to add extra zeros to the end of the sequence to make all of the sequences the same, biggest, length.<br>\n",
    "Then our network will handle a standard input size.\n",
    "\n",
    "However, this introduces the problem that the neural network will have to learn parameters for each position *separately*, *independently*,<br>\n",
    "without oversight of contextual development of inputs over time.\n",
    "\n",
    "If we're passing in two weather observations of different lengths, the network will have to learn to ignore the zeros at the end of the shorter sequence, and the interplay within the sequences."
   ]
  },
  {
   "cell_type": "code",
   "execution_count": 4,
   "metadata": {},
   "outputs": [
    {
     "name": "stdout",
     "output_type": "stream",
     "text": [
      "[[60. 52. 52. 53. 52. 50.]]\n",
      "[[64. 63. 62. 61. 60. 62. 67. 66. 70. 62.]]\n"
     ]
    }
   ],
   "source": [
    "print(data[\"tmax\"].head(6).to_numpy()[np.newaxis,:])\n",
    "print(data[\"tmax\"].tail(10).to_numpy()[np.newaxis,:])"
   ]
  },
  {
   "cell_type": "markdown",
   "metadata": {},
   "source": [
    "The thing is, the temperatures are interrelated - the temperature today causes a rational basis for the temperature tomorrow.<br>\n",
    "If we train a neural network to evaluate each position within the sequence input separately, which is what a dense neural network does,<br>\n",
    "it won't be able to efficiently learn the time-directional relationship between one sequence position and the next.\n",
    "\n",
    "Instead of the network being able to derive a rule to the extend of \"all time steps are related to their previous time step\",<br>\n",
    "it will be architectually restrained to stating \"time step $0$ is related to time step $1$, time step $1$ is related to time step $2$\", and so on.<br>\n",
    "\n",
    "> Dense Networks, applied to sequence data, lacks efficiency, as it structurally is inapt<br>\n",
    "> to learn the time-directional relationship between sequence elements.\n",
    "\n",
    "Recurrent Neural Networks (RNN) are a special kind of neural networks that solve this problem.\n",
    "\n",
    "In this lesson, we'll learn how to build one in Python."
   ]
  },
  {
   "cell_type": "markdown",
   "metadata": {},
   "source": [
    "## The RNN Architecture\n",
    "\n",
    "RNNs work by sharing parameters (weights and biases) across steps in a sequence.<br>\n",
    "At a *very* high level, a recurrent neural network looks like this:\n",
    "\n",
    "<div style=\"text-align:center;\">\n",
    "    <img src=\"../images/rnn/rnn_rolled.svg\" alt=\"Rolled RNN\">\n",
    "</div>\n",
    "\n",
    "What we see above is called a compact representation of an RNN. We pass input into an RNN, a single entry from a sequence, with the entry being of index $64$.<br>\n",
    "Again, per timestep, one input is made, consisting of one sequence entry, not the entire sequence or anything like that.<br>\n",
    "Each input is passed through the `Input Step (I)`, the `Hidden Step (H)` and the `Output Step (O)`,<br>\n",
    "the latter of which ultimately returning a prediction for the respective next sequence entry.\n",
    "\n",
    "The arrow connecting `H` to itself is called **Recurrence**.\n",
    "\n",
    "> In neural networks, recurrence means that the `H` layers applied per input are connected to each other across time/sequence steps.\n",
    "\n",
    "The effect of Recurrence unravels itself when looking at the unrolled depiction of an RNN:\n",
    "\n",
    "<div style=\"text-align:center;\">\n",
    "    <img src=\"../images/rnn/rnn_unrolled.svg\" alt=\"Unrolled RNN\">\n",
    "</div>\n",
    "\n",
    "Each sequence element is labeled at the bottom with the time step of the element.<br>\n",
    "The first element in the sequence is $t_0$, the second is $t_1$, and so on.<br>\n",
    "You can see that each element is passed into the input step, then to the hidden step.<br>\n",
    "The trick is that **the output of the hidden step is passed both to the output, and to the next hidden step**.\n",
    "\n",
    "Therefore, at each step, an RNN is informed about inputs at previous steps.<br>\n",
    "The \"memory\" of the network is stored in the hidden step `H`, and represented as an internal matrix of values.<br>\n",
    "This matrix is updated at each time step with new information about the sequence.\n",
    "\n",
    "Let's actually look at the exact operations that happen per each step within an RNN."
   ]
  },
  {
   "cell_type": "markdown",
   "metadata": {},
   "source": [
    "### RNN Operations\n",
    "\n",
    "<div style=\"text-align:center;\">\n",
    "    <img src=\"../images/rnn/rnn_operations.svg\" alt=\"RNN Operations\">\n",
    "</div>\n",
    "\n",
    "**An RNN has $3$ steps:**\n",
    "- `Input`  - Takes in a *sequence item*, multiplies it by some *input weight*,\n",
    "- `Hidden` - Takes the *previous hidden state*, multiplies it by some *hidden weight*. The *input state* is added to that, then a nonlinear activation function is applied.\n",
    "- `Output` - Takes the *hidden state*, multiplies it by some *output weight*.\n",
    "\n",
    "Additionally, biases are added at the *hidden step* and *output step*, but the biases are kept out of the diagram to make it easier to read.\n",
    "\n",
    "The trickiest architectural feat of an RNN is the hidden step.<br>\n",
    "It's this step that gives an RNN its power, by enabling it to have \"memory\".<br>\n",
    "The hidden state of the RNN stores a representation of information aggregated across previous sequence elements.<br>\n",
    "The hidden weights enable the RNN to go on and selectively remember/imprint or forget/erase certain information about past sequence elements.\n",
    "\n",
    "This way, the RNN can have trainable/focusable knowledge of past elements in the sequence without having strictly separate parameters for each sequence item.<br>\n",
    "We instead reuse them, inform our current step with them, and update them with new information, as seen fit.<br>\n",
    "The overall process is called **parameter sharing** - the RNN step-by-step optimizes the *same* set of input, hidden, and output weights through every sequence element.<br>\n",
    "Therefore, input, hidden and output are imprints of sequence characteristics, not of individual sequence elements. This is efficient, compared to dense neural networks.\n",
    "\n",
    "In addition to the sequence-focus, *parameter sharing* enables the RNN to be used for sequences of variable length - **we don't require a fixed size input sequence length**.\n",
    "\n",
    "### Forward Pass\n",
    "\n",
    "Let's go through an example to see how RNNs are implemented.<br>\n",
    "We'll initialize each weight matrix, and then do a sample forward pass with a sequence of length $3$."
   ]
  },
  {
   "cell_type": "code",
   "execution_count": 5,
   "metadata": {},
   "outputs": [
    {
     "name": "stdout",
     "output_type": "stream",
     "text": [
      "[66. 70. 62.]\n"
     ]
    }
   ],
   "source": [
    "np.random.seed(0) # Seed for reproducibility\n",
    "\n",
    "i_weight = np.random.rand(1,2) # Input weight,  (1,2) matrix\n",
    "h_weight = np.random.rand(2,2) # Hidden weight, (2,2) matrix\n",
    "o_weight = np.random.rand(2,1) # Output weight, (2,1) matrix\n",
    "\n",
    "# Assemble a sequence of 3 temperature values from dataset\n",
    "temps = data[\"tmax\"].tail(3).to_numpy()\n",
    "print(temps)"
   ]
  },
  {
   "cell_type": "markdown",
   "metadata": {
    "collapsed": false
   },
   "source": [
    "The network will take in a single input feature, turn it into $2$ representing hidden features, and then turn that into a single output feature.<br>\n",
    "We can now format our input for the forward pass.<br>\n",
    "Specifically, we will reshape each input scalar into a $1\\times 1$ matrix to make multiplication more straightforward:"
   ]
  },
  {
   "cell_type": "code",
   "execution_count": 6,
   "metadata": {},
   "outputs": [],
   "source": [
    "# Reshape each scalar to a (1,1) matrix, \n",
    "# Assign reshaped sequence input at each time step to respective variable.\n",
    "x0 = temps[0].reshape(1,1)\n",
    "x1 = temps[1].reshape(1,1)\n",
    "x2 = temps[2].reshape(1,1)"
   ]
  },
  {
   "cell_type": "markdown",
   "metadata": {},
   "source": [
    "We can go on and feed the element at time step $0$ into our network:"
   ]
  },
  {
   "cell_type": "code",
   "execution_count": 7,
   "metadata": {},
   "outputs": [
    {
     "name": "stdout",
     "output_type": "stream",
     "text": [
      "Input result at t=0:\t[[36.22169126 47.20249818]]\n",
      "Hidden state at t=0:\t[[36.22169126 47.20249818]] \n",
      "\n",
      "RNN Output - Step 0:\t[[57.94406231]]\n",
      "Actual next temperature:\t[[70.]]\n"
     ]
    }
   ],
   "source": [
    "# Multiply input by input weight to get input result for time step 0\n",
    "xi_0 = x0 @ i_weight\n",
    "\n",
    "# There is no previous time step, so there is no hidden state\n",
    "# Apply ReLU to input result, makes for initial hidden state\n",
    "xh_0 = np.maximum(0, xi_0)\n",
    "\n",
    "# Get output result at time step 0\n",
    "xo_0 = xh_0 @ o_weight\n",
    "\n",
    "print(f'Input result at t=0:\\t{xi_0}')\n",
    "print(f'Hidden state at t=0:\\t{xh_0}', \"\\n\")\n",
    "print(f'RNN Output - Step 0:\\t{xo_0}')\n",
    "print(f'Actual next temperature:\\t{x1}')"
   ]
  },
  {
   "cell_type": "markdown",
   "metadata": {},
   "source": [
    "`xo_0` is the RNN's prediction for the next step in the sequence.<br>\n",
    "With `xo_0` derived, we can move the network forward to time step $1$.<br>\n",
    "Notice how we didn't yet do anything to optimize the weights. This will happen later."
   ]
  },
  {
   "cell_type": "code",
   "execution_count": 8,
   "metadata": {},
   "outputs": [
    {
     "name": "stdout",
     "output_type": "stream",
     "text": [
      "RNN Output - Step 1: [[124.54916092]]\n"
     ]
    }
   ],
   "source": [
    "# We feed the input in the same way as the previous time step\n",
    "xi_1 = x1 @ i_weight\n",
    "\n",
    "# This time, we do have a previous time step, so we calculate xh\n",
    "# This is multiplying the previous hidden state xh_0 by the hidden weights\n",
    "xh = xh_0 @ h_weight\n",
    "\n",
    "# We add the previous hidden state (times h_weight) to the input at time step 1\n",
    "xh_1 = np.maximum(0, xh + xi_1)\n",
    "\n",
    "# We again find the output by multiplying xh_1 by the output weight\n",
    "xo_1 = xh_1 @ o_weight\n",
    "\n",
    "print('RNN Output - Step 1:', xo_1)"
   ]
  },
  {
   "cell_type": "markdown",
   "metadata": {},
   "source": [
    "`xo_1` is our prediction for the next sequence element.<br>\n",
    "Now we can do the same for our final time step $2$.<br>\n",
    "Notice how we use `i_weight`, `h_weight`, and `o_weight` again for this time step:"
   ]
  },
  {
   "cell_type": "code",
   "execution_count": 9,
   "metadata": {},
   "outputs": [
    {
     "name": "stdout",
     "output_type": "stream",
     "text": [
      "RNN Output - Step 2: [[190.94853131]]\n"
     ]
    }
   ],
   "source": [
    "# We feed the input in the same way as the previous time step\n",
    "xi_2 = x2 @ i_weight\n",
    "\n",
    "# This time, we do have a previous time step, so we calculate xh\n",
    "# This is multiplying the previous hidden state xh_1 by the hidden weights\n",
    "xh = xh_1 @ h_weight\n",
    "\n",
    "# We add the previous hidden state (times h_weight) to the input at time step 2\n",
    "xh_2 = np.maximum(0, xh + xi_2)\n",
    "\n",
    "# We again find the output by multiplying xh_1 by the output weight\n",
    "xo_2 = xh_2 @ o_weight\n",
    "\n",
    "print('RNN Output - Step 2:', xo_2)"
   ]
  },
  {
   "cell_type": "markdown",
   "metadata": {},
   "source": [
    "We've now passed through $3$ forward steps of our RNN!<br>\n",
    "The output `x0` at each time step $i$ is the prediction for the respective next element $i+1$ in the sequence.<br>\n",
    "The hidden state of the RNN allows the network to utilize information from all prior sequence elements.<br>\n",
    "Therefore, when we're processing the sequence item at time step $2$, the hidden state of the RNN aggregates information about the sequence elements at time steps $0$ and $1$."
   ]
  },
  {
   "cell_type": "markdown",
   "metadata": {},
   "source": [
    "#### Nonlinearity\n",
    "\n",
    "You may have noticed that the output values increased in each time step of our RNN.<br>\n",
    "That happened because the hidden state kept increasing in size.<br>\n",
    "Unlike the *Sigmoid* or *Softmax* activation functions, *ReLU* doesn't change the scale of the positive inputs at all.<br>\n",
    "This means that some positive values get repeatedly multiplied and therefore grow larger and larger.\n",
    "\n",
    "We can see this below:"
   ]
  },
  {
   "cell_type": "code",
   "execution_count": 10,
   "metadata": {},
   "outputs": [
    {
     "name": "stdout",
     "output_type": "stream",
     "text": [
      "Hidden State - Step 0: [[36.22169126 47.20249818]]\tOutput: [[57.94406231]]\t\tActual: [[66.]]\n",
      "Hidden State - Step 1: [[ 80.24761908 100.28766177]]\tOutput: [[124.54916092]]\tActual: [[70.]]\n",
      "Hidden State - Step 2: [[124.88411227 152.84252918]]\tOutput: [[190.94853131]]\tActual: [[62.]]\n"
     ]
    }
   ],
   "source": [
    "print(f'Hidden State - Step 0: {xh_0}\\tOutput: {xo_0}\\t\\tActual: {x0}')\n",
    "print(f'Hidden State - Step 1: {xh_1}\\tOutput: {xo_1}\\tActual: {x1}')\n",
    "print(f'Hidden State - Step 2: {xh_2}\\tOutput: {xo_2}\\tActual: {x2}')"
   ]
  },
  {
   "cell_type": "markdown",
   "metadata": {},
   "source": [
    "Our hidden state at time step $2$ is much larger than our initial hidden state.<br>\n",
    "To fix this, we usually replace our ReLU with the $\\tanh$ activation function for RNNs.\n",
    "\n",
    "The equation for $\\tanh$ is this:\n",
    "$$\\tanh = \\dfrac{e^{x}-e^{-x}}{e^{x}+e^{-x}}$$\n",
    "\n",
    "As $x$ gets large, $e^{x}$ gets very large, and $e^{-x}$ gets very small. This pushes the output of $\\tanh$ towards $1$.<br>\n",
    "Then in turn, when $x$ gets very small (negative), $e^{-x}$ gets very large, and $e^{x}$ gets very small. This results in trending towards $-1$.\n",
    "\n",
    "Let's graph the $\\tanh$ function to see how this works:"
   ]
  },
  {
   "cell_type": "code",
   "execution_count": 11,
   "metadata": {},
   "outputs": [
    {
     "data": {
      "image/png": "[encoded data removed]",
      "text/plain": [
       "<Figure size 640x480 with 1 Axes>"
      ]
     },
     "metadata": {},
     "output_type": "display_data"
    }
   ],
   "source": [
    "# Define some temperature values\n",
    "temps = np.arange(-10, 10, .1)\n",
    "\n",
    "plt.title('Activation Functions')\n",
    "plt.plot(temps, np.tanh(temps), label='Tanh')\n",
    "plt.plot(temps, np.maximum(0, temps), label='ReLU')\n",
    "plt.plot(temps, 1/(1+np.exp(-temps)), label='Sigmoid')\n",
    "plt.ylim(-1.5, 1.5)\n",
    "plt.xlim(-10, 10)\n",
    "plt.axhline(0, color='black', lw=.5)\n",
    "plt.axvline(0, color='black', lw=.5)\n",
    "plt.legend()\n",
    "plt.show();"
   ]
  },
  {
   "cell_type": "markdown",
   "metadata": {},
   "source": [
    "$\\tanh$ outputs values between $-1$ and $1$. Additionally, it has a very steep slope around $0$ on the x-axis.<br>\n",
    "The $\\tanh$ activation function is better for our purposes compared to Sigmoid, because it enables us to have *negative values*.<br>\n",
    "This enables the gradient to be steeper, which aids in gradient descent.<br>\n",
    "You can also view this from a totally different perspective: In enabling negative values,<br>\n",
    "$\\tanh$ allows for the hidden state to learn to forget certain information through scaling down the values, too.\n",
    "\n",
    "Let's take a look at the derivative of $\\tanh$ using sympy:"
   ]
  },
  {
   "cell_type": "code",
   "execution_count": 12,
   "metadata": {},
   "outputs": [
    {
     "data": {
      "text/latex": [
       "$\\displaystyle \\frac{\\left(- e^{x} + e^{- x}\\right) \\left(e^{x} - e^{- x}\\right)}{\\left(e^{x} + e^{- x}\\right)^{2}} + 1$"
      ],
      "text/plain": [
       "(-exp(x) + exp(-x))*(exp(x) - exp(-x))/(exp(x) + exp(-x))**2 + 1"
      ]
     },
     "execution_count": 12,
     "metadata": {},
     "output_type": "execute_result"
    }
   ],
   "source": [
    "x = symbols(\"x\")\n",
    "\n",
    "# tanh\n",
    "sympy_tanh = (exp(x) - exp(-x)) / (exp(x) + exp(-x))\n",
    "\n",
    "# Derivative of tanh\n",
    "diff(sympy_tanh, x)"
   ]
  },
  {
   "cell_type": "markdown",
   "metadata": {},
   "source": [
    "While the result is technically correct, Sympy doesn't quite simplify the derivative all the way.<br>\n",
    "Like the derivatives of sigmoid and softmax, we can express the derivative of $\\tanh{x}$ in terms of the output: $1 - \\tanh^2{x}$.\n",
    "\n",
    "We can then graph this derivative:"
   ]
  },
  {
   "cell_type": "code",
   "execution_count": 13,
   "metadata": {},
   "outputs": [
    {
     "data": {
      "image/png": "[encoded data removed]",
      "text/plain": [
       "<Figure size 640x480 with 1 Axes>"
      ]
     },
     "metadata": {},
     "output_type": "display_data"
    }
   ],
   "source": [
    "plt.title('Derivative of Tanh')\n",
    "plt.plot(temps, 1 - np.tanh(temps) ** 2);"
   ]
  },
  {
   "cell_type": "markdown",
   "metadata": {},
   "source": [
    "As you can see, the derivative has a steep slope, making $\\tanh$ an ideal activation function.<br>\n",
    "We can say that because this slope will enable gradient descent to descend effectively and quickly.<br>\n",
    "We can now go on with our own implementation and use $\\tanh$ instead of ReLU."
   ]
  },
  {
   "cell_type": "markdown",
   "metadata": {},
   "source": [
    "#### Full Forward Pass\n",
    "\n",
    "We now know enough to put together a *complete* RNN forward pass.<br>\n",
    "We'll first initialize our weights and biases. We'll add in bias terms in the hidden and output steps.\n",
    "\n",
    "We'll also scale the weights and biases to work properly with the $\\tanh$ nonlinearity.<br>\n",
    "We'll make our input and hidden weights small, so that $\\tanh$ doesn't squash all the values to its extremes $1$ or $-1$.<br>\n",
    "We'll make the output weight large, since the output of the hidden step will be small (between $1$ and $-1$), yet we actually want to cover some output value range.\n",
    "\n",
    "Of course, in a comprehensive RNN implementation, the network would eventually learn the correct parameters.<br>\n",
    "But initializing weights and biases to the correct ranges helps *a lot* with gradient descent."
   ]
  },
  {
   "cell_type": "code",
   "execution_count": 14,
   "metadata": {},
   "outputs": [],
   "source": [
    "np.random.seed(0) # Reproducibility\n",
    "\n",
    "# Define weights and biases\n",
    "# Scale w and b so tanh activations don't radicalize too much\n",
    "i_weight = np.random.rand(1,5) / 5 - .1 # we sample values [-0.1;0.1]\n",
    "h_weight = np.random.rand(5,5) / 5 - .1\n",
    "h_bias   = np.random.rand(1,5) / 5 - .1\n",
    "\n",
    "# Tanh pushes values to between -1 and 1, so scale up the output weights\n",
    "# We sample large output values, allowing for displaying larger ranges despite tanh input\n",
    "o_weight = np.random.rand(5,1) * 50\n",
    "o_bias   = np.random.rand(1,1)"
   ]
  },
  {
   "cell_type": "markdown",
   "metadata": {
    "collapsed": false
   },
   "source": [
    "Now we can write the forward pass as a for loop.<br>\n",
    "The loop will process sequence elements one after another.\n",
    "\n",
    "We'll store the output prediction and the hidden state, respectively:"
   ]
  },
  {
   "cell_type": "code",
   "execution_count": 15,
   "metadata": {},
   "outputs": [],
   "source": [
    "# RNN Forward Pass for sequences of 3 time steps\n",
    "seq_length = 3\n",
    "\n",
    "outputs = np.zeros(seq_length)   # Array to store the output predictions\n",
    "hiddens = np.zeros((seq_length, 5)) # Array to store hidden states for use in backprop\n",
    "\n",
    "# This will store the previous hidden state, \n",
    "# We'll need prev_hidden to calculate the current hidden step\n",
    "prev_hidden = None\n",
    "\n",
    "# Our temperature sequence to train on\n",
    "sequence = data[\"tmax\"].tail(seq_length).to_numpy()\n",
    "\n",
    "for i in range(len(sequence)):\n",
    "    # Get scalar input from sequence at current position\n",
    "    x = sequence[i].reshape(1,1)\n",
    "\n",
    "    # Multiply input by input weight\n",
    "    xi = x @ i_weight\n",
    "\n",
    "    if prev_hidden is None:\n",
    "        # Init hidden as input\n",
    "        xh = xi\n",
    "    else:\n",
    "        # Add prev hidden to input + bias\n",
    "        xh = xi + (prev_hidden @ h_weight) + h_bias\n",
    "\n",
    "    # Apply tanh to hidden state\n",
    "    xh = np.tanh(xh)\n",
    "    # Store hidden state for next iteration\n",
    "    prev_hidden = xh\n",
    "    # Store hidden state for backprop\n",
    "    hiddens[i,] = xh\n",
    "\n",
    "    # Multiply hidden state by output weight, add bias\n",
    "    xo = xh @ o_weight + o_bias\n",
    "    # Store output\n",
    "    outputs[i] = xo[0,0]"
   ]
  },
  {
   "cell_type": "markdown",
   "metadata": {
    "collapsed": false
   },
   "source": [
    "Afterwards, we can take a look at our outputs and hidden states.<br>\n",
    "As we can see, the hidden states don't increase constantly anymore:"
   ]
  },
  {
   "cell_type": "code",
   "execution_count": 16,
   "metadata": {},
   "outputs": [
    {
     "name": "stdout",
     "output_type": "stream",
     "text": [
      "[74.31470595 80.66149404 77.67852446] \n",
      "\n",
      "[[ 0.56784618  0.99320288  0.87557333  0.53166114 -0.76483255]\n",
      " [ 0.58366756  0.99568651  0.90034879  0.69338529 -0.84149203]\n",
      " [ 0.5383306   0.99164251  0.86287584  0.66091071 -0.80543591]]\n"
     ]
    }
   ],
   "source": [
    "print(outputs, \"\\n\")\n",
    "print(hiddens)"
   ]
  },
  {
   "cell_type": "markdown",
   "metadata": {
    "collapsed": false
   },
   "source": [
    "### Calculating the Loss\n",
    "\n",
    "After we progressed through our forward pass, we can head on to calculating the gradient with respect to the network outputs.<br>\n",
    "We will be determining the mean squared error `mse`. From there, we'll also calculate `mse_grad`:"
   ]
  },
  {
   "cell_type": "code",
   "execution_count": 17,
   "metadata": {},
   "outputs": [],
   "source": [
    "def mse(actual, predicted):\n",
    "    return np.mean((actual-predicted)**2)\n",
    "\n",
    "def mse_grad(actual, predicted):\n",
    "    return (predicted - actual)"
   ]
  },
  {
   "cell_type": "code",
   "execution_count": 18,
   "metadata": {},
   "outputs": [
    {
     "name": "stdout",
     "output_type": "stream",
     "text": [
      "[ 4.31470595 18.66149404 13.67852446]\n"
     ]
    }
   ],
   "source": [
    "# Actual next day temperatures\n",
    "actuals = data[\"tmax_tomorrow\"].tail(seq_length).to_numpy()\n",
    "\n",
    "loss_grad = mse_grad(actuals, outputs)\n",
    "print(loss_grad)"
   ]
  },
  {
   "cell_type": "markdown",
   "metadata": {
    "collapsed": false
   },
   "source": [
    "### Backward Pass\n",
    "\n",
    "Now that we've written a forward pass, let's think about the backward pass to update our model parameters.<br>\n",
    "The main complexity in the backward pass is that parameters impact both the current and future outputs.\n",
    "\n",
    "Let's visualize this, starting with the last sequence item:\n",
    "\n",
    "<div style=\"text-align:center;\">\n",
    "    <img src=\"../images/rnn/gradient_last.svg\" alt=\"Gradient Last\">\n",
    "</div>\n",
    "\n",
    "As you can see above, the last hidden step is only used by the output of the last time step.<br>\n",
    "But this is different for other hidden steps:\n",
    "\n",
    "<div style=\"text-align:center;\">\n",
    "    <img src=\"../images/rnn/gradient_inside.svg\" alt=\"Gradient Inside\">\n",
    "</div>\n",
    "\n",
    "The hidden step at time step $2$ is connected to both the output and the next hidden state.<br>\n",
    "So it affects not just the current output, but all subsequent outputs, too.\n",
    "\n",
    "We have to consider this fact when we do backpropagation: **Some parameters will impact multiple outputs**.<br>\n",
    "These parameters need to get gradients assembled from multiple outputs in order to be correctly adjusted.\n",
    "\n",
    "> We'll have to send the gradient with respect to each hidden step backwards to the previous sequence position.<br>\n",
    "> This is called backpropagation through time, and it's how we train the parameters of an RNN.\n",
    "\n",
    "Here are the operations we will follow to do a backward pass:\n",
    "\n",
    "<div style=\"text-align:center;\">\n",
    "    <img src=\"../images/rnn/rnn_operations_bw.svg\" alt=\"RNN Operations\">\n",
    "</div>\n",
    "\n",
    "Let's implement the backward pass one by one for each sequence element.\n",
    "\n",
    "We start out by creating variables to store the gradients with respect to each parameter.<br>\n",
    "We do this because we want to sum the gradients across time positions before making updates with gradient descent:"
   ]
  },
  {
   "cell_type": "code",
   "execution_count": 19,
   "metadata": {
    "collapsed": false
   },
   "outputs": [],
   "source": [
    "# Aggregators, keeping running total of gradients\n",
    "o_weight_grad, o_bias_grad, h_weight_grad, h_bias_grad, i_weight_grad = [0] * 5"
   ]
  },
  {
   "cell_type": "markdown",
   "metadata": {
    "collapsed": false
   },
   "source": [
    "Then, we can run backpropagation for the last sequence element.<br>\n",
    "In this case, there is no next hidden state, so we only need to worry about the gradient wrt the output at this position:"
   ]
  },
  {
   "cell_type": "code",
   "execution_count": 20,
   "metadata": {
    "collapsed": false
   },
   "outputs": [],
   "source": [
    "# Get the loss wrt the output at the current time step\n",
    "l2_grad = loss_grad[2].reshape(1,1)\n",
    "\n",
    "# Add to the output weight gradient\n",
    "# Multiply the output of the hidden step (hiddens[2]) transposed by the l2 grad\n",
    "# np.newaxis creates a new size 1 axis, effectively transposing the hiddens\n",
    "o_weight_grad += hiddens[2][:,np.newaxis] @ l2_grad\n",
    "# Add to the bias gradient.  Similar to a dense neural network, this is just the mean of the l2_grad.\n",
    "o_bias_grad += np.mean(l2_grad)\n",
    "\n",
    "# Find the gradient wrt the hidden step output\n",
    "h2_grad = l2_grad @ o_weight.T\n",
    "\n",
    "# Derivative of the tanh function\n",
    "tanh_deriv = 1 - hiddens[2,:][np.newaxis,:] ** 2\n",
    "# Multiply each position in the h_grad by the tanh derivative - this \"undoes\" the tanh in the forward pass\n",
    "h2_grad = np.multiply(h2_grad, tanh_deriv)\n",
    "\n",
    "# Now, find how much we need to update the hidden weights.\n",
    "# We take the input to the hidden step (the output of the previous hidden step in the forward pass) @ h2_grad\n",
    "h_weight_grad += hiddens[1,:][:,np.newaxis] @ h2_grad\n",
    "h_bias_grad += np.mean(h2_grad)\n",
    "\n",
    "# This multiples the sequence value at time step 2 by the gradient\n",
    "# We don't need the .T here, but I left it here in case you have a larger input size\n",
    "i_weight_grad += sequence[2].reshape(1,1).T @ h2_grad"
   ]
  },
  {
   "cell_type": "markdown",
   "metadata": {
    "collapsed": false
   },
   "source": [
    "A lot of the above step is very similar to backpropagation in a [dense neural network](../3-Dense_Networks/dense.ipynb).<br>\n",
    "The main difference comes in the next sequence position, where we need to consider multiple gradients at the hidden step:"
   ]
  },
  {
   "cell_type": "code",
   "execution_count": 21,
   "metadata": {
    "collapsed": false
   },
   "outputs": [],
   "source": [
    "l1_grad = loss_grad[1].reshape(1,1)\n",
    "\n",
    "o_weight_grad += hiddens[1][:,np.newaxis] @ l1_grad\n",
    "o_bias_grad += np.mean(l1_grad)\n",
    "\n",
    "h1_grad = l1_grad @ o_weight.T\n",
    "\n",
    "# We do have a next sequence position (2), so we need to include that gradient\n",
    "# We multiply the h2 gradient by the weight to pull it back to the current sequence position\n",
    "h1_grad += h2_grad @ h_weight.T\n",
    "\n",
    "# The rest of the operation is the same\n",
    "tanh_deriv = 1 - hiddens[1,:][np.newaxis,:] ** 2\n",
    "h1_grad = np.multiply(h1_grad, tanh_deriv)\n",
    "\n",
    "h_weight_grad += hiddens[1,:][:,np.newaxis] @ h1_grad\n",
    "h_bias_grad += np.mean(h1_grad)\n",
    "\n",
    "i_weight_grad += sequence[1].reshape(1,1).T @ h1_grad"
   ]
  },
  {
   "cell_type": "markdown",
   "metadata": {
    "collapsed": false
   },
   "source": [
    "Now, we can do the final sequence position, $0$.<br>\n",
    "The main difference here is that we don't update the hidden gradient, since<br>\n",
    "there is no previous sequence position that gave us hidden state input in the forward pass:"
   ]
  },
  {
   "cell_type": "code",
   "execution_count": 22,
   "metadata": {
    "collapsed": false
   },
   "outputs": [],
   "source": [
    "l0_grad = loss_grad[0].reshape(1,1)\n",
    "\n",
    "o_weight_grad += hiddens[0][:,np.newaxis] @ l0_grad\n",
    "o_bias_grad += np.mean(l0_grad)\n",
    "\n",
    "h0_grad = l0_grad @ o_weight.T\n",
    "h0_grad += h1_grad @ h_weight.T\n",
    "\n",
    "tanh_deriv = 1 - hiddens[0,:][np.newaxis,:] ** 2\n",
    "h0_grad = np.multiply(h0_grad, tanh_deriv)\n",
    "\n",
    "# We don't update the hidden weight, since there was no previous hidden state\n",
    "# We can update the hidden bias if you want\n",
    "\n",
    "i_weight_grad += sequence[0].reshape(1,1).T @ h0_grad"
   ]
  },
  {
   "cell_type": "markdown",
   "metadata": {
    "collapsed": false
   },
   "source": [
    "We can now look at our gradient updates:"
   ]
  },
  {
   "cell_type": "code",
   "execution_count": 23,
   "metadata": {
    "collapsed": false
   },
   "outputs": [
    {
     "name": "stdout",
     "output_type": "stream",
     "text": [
      "Output Weight Gradient: [[ 20.7057662 ]\n",
      " [ 36.43058259]\n",
      " [ 32.38256333]\n",
      " [ 24.27385028]\n",
      " [-30.02070081]] \n",
      "\n",
      "Output Bias Gradient: 36.65472444998886 \n",
      "\n",
      "Hidden Weight Gradient: [[ 414.96700557    7.11705057  128.09069049  490.00406461  206.76584453]\n",
      " [ 707.89791607   12.14107435  218.51166876  835.90466603  352.72469496]\n",
      " [ 640.11616967   10.97855755  197.58901567  755.86617912  318.95104586]\n",
      " [ 492.97243446    8.45491256  152.16915725  582.11494741  245.6336537 ]\n",
      " [-598.27109131  -10.2608775  -184.67241047 -706.45439889 -298.10087499]] \n",
      "\n",
      "Hidden Bias Gradient: 427.27906887063534 \n",
      "\n",
      "Input Weight Gradient: [[56026.07073088   960.33350651 16758.78602233 67910.52141452\n",
      "  28061.23683219]]\n"
     ]
    }
   ],
   "source": [
    "print('Output Weight Gradient:', o_weight_grad, \"\\n\")\n",
    "print('Output Bias Gradient:', o_bias_grad, \"\\n\")\n",
    "print('Hidden Weight Gradient:', h_weight_grad, \"\\n\")\n",
    "print('Hidden Bias Gradient:', h_bias_grad, \"\\n\")\n",
    "print('Input Weight Gradient:', i_weight_grad)"
   ]
  },
  {
   "cell_type": "markdown",
   "metadata": {
    "collapsed": false
   },
   "source": [
    "We've now completed backpropagation across $3$ time steps!<br>\n",
    "We'll see how to make the gradient updates in the next section."
   ]
  },
  {
   "cell_type": "markdown",
   "metadata": {},
   "source": [
    "#### Full Backward Pass\n",
    "\n",
    "Similar to a forward pass, we can implement the full backward pass as a loop.<br>Here we go:"
   ]
  },
  {
   "cell_type": "code",
   "execution_count": 24,
   "metadata": {},
   "outputs": [],
   "source": [
    "next_hidden = None\n",
    "o_weight_grad, o_bias_grad, h_weight_grad, h_bias_grad, i_weight_grad = [0] * 5\n",
    "loss_grad = mse_grad(actuals, outputs) # Gradient of mse across all sequence steps, yields (seq_length,1) matrix\n",
    "\n",
    "# Iterating from 2 to 0 (inclusive of 0)\n",
    "for i in range(2, -1, -1):\n",
    "    # Plug out current loss gradient scalar into (1,1) matrix\n",
    "    l_grad = loss_grad[i].reshape(1,1)\n",
    "    # Add to the output weight gradient\n",
    "    # Multiply the output of the hidden step transposed by the l_grad\n",
    "    # np.newaxis creates new size 1 axis, effectively transposing the hiddens\n",
    "    o_weight_grad += hiddens[i][:,np.newaxis] @ l_grad\n",
    "    # The bias grad is just the mean of the l_grad, like in DNNs.\n",
    "    o_bias_grad += np.mean(l_grad)\n",
    "    # Gradient of output layer w.r.t the loss\n",
    "    o_grad = l_grad @ o_weight.T\n",
    "\n",
    "    # Gradient calculation is different, given a next hidden state\n",
    "    if next_hidden is None:\n",
    "        # We're at the end of a sequence\n",
    "        h_grad = o_grad\n",
    "    else:\n",
    "        # We're at the start or within a sequence\n",
    "        h_grad = o_grad + next_hidden @ h_weight.T\n",
    "\n",
    "    # Derivative of tanh being applied to hidden state\n",
    "    tanh_deriv = 1 - hiddens[i,:][np.newaxis,:] ** 2\n",
    "    # The actual h_grad is bare gradient affected/multiplied by activation function derivative\n",
    "    h_grad = np.multiply(h_grad, tanh_deriv)\n",
    "\n",
    "    # Store current hidden state for next/earlier cell gradient calculation\n",
    "    next_hidden = h_grad\n",
    "\n",
    "    # Don't update hidden weights for initial (chronologically first) sequence position\n",
    "    if i > 0:\n",
    "        h_weight_grad += hiddens[i-1,:][:,np.newaxis] @ h_grad\n",
    "        h_bias_grad += np.mean(h_grad)\n",
    "\n",
    "    # Ultimately, update input weight gradient\n",
    "    i_weight_grad += sequence[i].reshape(1,1).T @ h_grad"
   ]
  },
  {
   "cell_type": "markdown",
   "metadata": {},
   "source": [
    "We can then use gradient descent to make parameter updates:"
   ]
  },
  {
   "cell_type": "code",
   "execution_count": 26,
   "metadata": {},
   "outputs": [],
   "source": [
    "lr = 1e-6 # We'll just use this fixed learning rate for now\n",
    "\n",
    "# Dividing the learning rate by the sequence length applies the learning rate across the update,\n",
    "# not per time step. While this may seem counterintuitive, this helps stabilize training.\n",
    "lr = lr / seq_length\n",
    "\n",
    "# Gradient Descent Update\n",
    "i_weight -= i_weight_grad * lr\n",
    "h_weight -= h_weight_grad * lr\n",
    "h_bias -= h_bias_grad * lr\n",
    "o_weight -= o_weight_grad * lr\n",
    "o_bias -= o_bias_grad * lr"
   ]
  },
  {
   "cell_type": "markdown",
   "metadata": {
    "collapsed": false
   },
   "source": [
    "## Full Implementation"
   ]
  },
  {
   "cell_type": "markdown",
   "metadata": {},
   "source": [
    "We can now go on to do a full implementation of a complete network for a sequence length of $3$ and a time step input's dimensionality of $1$.<br>\n",
    "For the full implementation, we'll use $3$-dimensional inputs and a sequence length of $7$.<br>\n",
    "This code will mostly be the same as the forward and backward passes we already implemented, just a bit more condensed.\n",
    "\n",
    "First, we'll load in and scale our data:"
   ]
  },
  {
   "cell_type": "code",
   "execution_count": 29,
   "metadata": {},
   "outputs": [],
   "source": [
    "# Define predictor fields to consider, target to predict for\n",
    "PREDICTORS = [\"tmax\", \"tmin\", \"rain\"]\n",
    "TARGET = \"tmax_tomorrow\"\n",
    "\n",
    "# Reproducibly split into train, valid, test set\n",
    "np.random.seed(0)\n",
    "split_data = np.split(data, [int(.7*len(data)), int(.85*len(data))])\n",
    "(train_x, train_y), (valid_x, valid_y), (test_x, test_y) = [[d[PREDICTORS].to_numpy(), d[[TARGET]].to_numpy()] for d in split_data]\n",
    "\n",
    "# Standardize each dataset individually to avoid data leakage\n",
    "scaler = StandardScaler()\n",
    "train_x = scaler.fit_transform(train_x)\n",
    "valid_x = scaler.fit_transform(valid_x)\n",
    "test_x = scaler.fit_transform(test_x)"
   ]
  },
  {
   "cell_type": "markdown",
   "metadata": {
    "collapsed": false
   },
   "source": [
    "We can now initialize our weights and biases.<br>\n",
    "We'll scale our parameters so they start out relatively small.<br>\n",
    "\n",
    "This helps the network converge meaningfully, because $\\tanh$ will meaningfully scale the values not just to extremes."
   ]
  },
  {
   "cell_type": "code",
   "execution_count": 30,
   "metadata": {},
   "outputs": [],
   "source": [
    "def init_params(layer_conf):\n",
    "    layers = []\n",
    "    for i in range(1, len(layer_conf)):\n",
    "        np.random.seed(0)\n",
    "        k = 1/math.sqrt(layer_conf[i][\"hidden\"])\n",
    "        \n",
    "        # Weights for input layer\n",
    "        i_weight = np.random.rand(layer_conf[i-1][\"units\"], layer_conf[i][\"hidden\"]) * 2 * k - k\n",
    "        \n",
    "        # Weights + Bias for hidden layer\n",
    "        h_weight = np.random.rand(layer_conf[i][\"hidden\"], layer_conf[i][\"hidden\"]) * 2 * k - k\n",
    "        h_bias = np.random.rand(1, layer_conf[i][\"hidden\"]) * 2 * k - k\n",
    "        \n",
    "        # Weights + Bias for output layer\n",
    "        o_weight = np.random.rand(layer_conf[i][\"hidden\"], layer_conf[i][\"output\"]) * 2 * k - k\n",
    "        o_bias = np.random.rand(1, layer_conf[i][\"output\"]) * 2 * k - k\n",
    "        \n",
    "        # Append the weights and biases to the layers list\n",
    "        layers.append(\n",
    "            [i_weight, h_weight, h_bias, o_weight, o_bias]\n",
    "        )\n",
    "    return layers"
   ]
  },
  {
   "cell_type": "markdown",
   "metadata": {
    "collapsed": false
   },
   "source": [
    "The forward pass now looks something like this:"
   ]
  },
  {
   "cell_type": "code",
   "execution_count": 31,
   "metadata": {},
   "outputs": [],
   "source": [
    "def forward(x, layers):\n",
    "    hiddens = []\n",
    "    outputs = []\n",
    "    for i in range(len(layers)):\n",
    "        # Unpack weights and biases\n",
    "        i_weight, h_weight, h_bias, o_weight, o_bias = layers[i]\n",
    "        \n",
    "        # Shaping Hidden state (seq_len, hidden_units) and Output (seq_len, output_units)\n",
    "        hidden = np.zeros((x.shape[0], i_weight.shape[1]))\n",
    "        output = np.zeros((x.shape[0], o_weight.shape[1]))\n",
    "        \n",
    "        # Iterate over each time step\n",
    "        for j in range(x.shape[0]):\n",
    "            input_x = x[j,:][np.newaxis,:] @ i_weight\n",
    "            hidden_x = input_x + hidden[max(j-1,0),:][np.newaxis,:] @ h_weight + h_bias\n",
    "            \n",
    "            # Activation. tanh squashes values between -1 and 1; \n",
    "            # Allows for incrementing/decrementing scales to retain/forget\n",
    "            hidden_x = np.tanh(hidden_x)\n",
    "            \n",
    "            # Store hidden for use in backprop\n",
    "            hidden[j,:] = hidden_x\n",
    "            \n",
    "            # Output layer\n",
    "            output_x = hidden_x @ o_weight + o_bias\n",
    "            \n",
    "            # Store output for use in backprop\n",
    "            output[j,:] = output_x\n",
    "       \n",
    "        # Store hidden state and output for use in backprop\n",
    "        hiddens.append(hidden)\n",
    "        outputs.append(output)\n",
    "   \n",
    "    # We want all hidden states and only the 'next in line' prediction\n",
    "    return hiddens, outputs[-1]"
   ]
  },
  {
   "cell_type": "markdown",
   "metadata": {
    "collapsed": false
   },
   "source": [
    "And the backward pass:"
   ]
  },
  {
   "cell_type": "code",
   "execution_count": 32,
   "metadata": {},
   "outputs": [],
   "source": [
    "def backward(layers, x, lr, grad, hiddens):\n",
    "    for i in range(len(layers)):\n",
    "        i_weight, h_weight, h_bias, o_weight, o_bias = layers[i]\n",
    "        hidden = hiddens[i]\n",
    "        next_h_grad = None\n",
    "        i_weight_grad, h_weight_grad, h_bias_grad, o_weight_grad, o_bias_grad = [0] * 5\n",
    "\n",
    "        for j in range(x.shape[0] - 1, -1, -1):\n",
    "            # Add newaxis in the first dimension\n",
    "            out_grad = grad[j,:][np.newaxis, :]\n",
    "\n",
    "            # Output updates\n",
    "            # np.newaxis creates a size 1 axis, in this case transposing matrix\n",
    "            o_weight_grad += hidden[j,:][:, np.newaxis] @ out_grad\n",
    "            o_bias_grad += out_grad\n",
    "\n",
    "            # Propagate gradient to hidden unit\n",
    "            h_grad = out_grad @ o_weight.T\n",
    "\n",
    "            if j < x.shape[0] - 1:\n",
    "                # Then we multiply the gradient by the hidden weights to pull gradient from next hidden state to current hidden state\n",
    "                hh_grad = next_h_grad @ h_weight.T\n",
    "                # Add the gradients together to combine output contribution and hidden contribution\n",
    "                h_grad += hh_grad\n",
    "\n",
    "            # Pull the gradient across the current hidden nonlinearity\n",
    "            # derivative of tanh is 1 - tanh(x) ** 2\n",
    "            # So we take the output of tanh (next hidden state), and plug in\n",
    "            tanh_deriv = 1 - hidden[j][np.newaxis,:] ** 2\n",
    "\n",
    "            # next_h_grad @ np.diag(tanh_deriv_next) multiplies each element of next_h_grad by the deriv\n",
    "            # Effect is to pull value across nonlinearity\n",
    "            h_grad = np.multiply(h_grad, tanh_deriv)\n",
    "\n",
    "            # Store to compute h grad for previous sequence position\n",
    "            next_h_grad = h_grad.copy()\n",
    "\n",
    "            # If we're not at the very beginning\n",
    "            if j > 0:\n",
    "                # Multiply input from previous layer by post-nonlinearity grad at current layer\n",
    "                h_weight_grad += hidden[j-1][:, np.newaxis] @ h_grad\n",
    "                h_bias_grad += h_grad\n",
    "\n",
    "            i_weight_grad += x[j,:][:,np.newaxis] @ h_grad\n",
    "\n",
    "        # Normalize lr by number of sequence elements\n",
    "        lr = lr / x.shape[0]\n",
    "        i_weight -= i_weight_grad * lr\n",
    "        h_weight -= h_weight_grad * lr\n",
    "        h_bias -= h_bias_grad * lr\n",
    "        o_weight -= o_weight_grad * lr\n",
    "        o_bias -= o_bias_grad * lr\n",
    "        layers[i] = [i_weight, h_weight, h_bias, o_weight, o_bias]\n",
    "    return layers"
   ]
  },
  {
   "cell_type": "markdown",
   "metadata": {
    "collapsed": false
   },
   "source": [
    "We can conclude by setting up a training loop and measuring error:"
   ]
  },
  {
   "cell_type": "code",
   "execution_count": 34,
   "metadata": {},
   "outputs": [
    {
     "name": "stdout",
     "output_type": "stream",
     "text": [
      "Epoch: 0\t Train Loss: 3127.0305785639307\t Val Loss: 2173.940590560558\n",
      "Epoch: 50\t Train Loss: 29.69054028769555\t Val Loss: 34.48611521186155\n",
      "Epoch: 100\t Train Loss: 25.06454162741681\t Val Loss: 27.155395197347143\n",
      "Epoch: 150\t Train Loss: 22.889655164162015\t Val Loss: 23.846369196866874\n",
      "Epoch: 200\t Train Loss: 22.235640463748837\t Val Loss: 22.853770518905\n",
      "Epoch: 249\t Train Loss: 22.08072534106742\t Val Loss: 22.54001365658709\n"
     ]
    }
   ],
   "source": [
    "epochs = 250\n",
    "lr = 1e-5\n",
    "sequence_len = 7\n",
    "\n",
    "# Per time step: Three inputs, Four hidden units, One output\n",
    "layer_conf = [\n",
    "    {\"type\":\"input\", \"units\": 3},\n",
    "    {\"type\": \"rnn\", \"hidden\": 4, \"output\": 1}\n",
    "]\n",
    "\n",
    "# Initialize weights and biases\n",
    "layers = init_params(layer_conf)\n",
    "\n",
    "# Training Loop\n",
    "for epoch in range(epochs):\n",
    "    epoch_loss = 0\n",
    "    for j in range(train_x.shape[0] - sequence_len):\n",
    "        seq_x = train_x[j:(j+sequence_len),]\n",
    "        seq_y = train_y[j:(j+sequence_len),]\n",
    "        hiddens, outputs = forward(seq_x, layers)\n",
    "        grad = mse_grad(seq_y, outputs)\n",
    "        params = backward(layers, seq_x, lr, grad, hiddens)\n",
    "        epoch_loss += mse(seq_y, outputs)\n",
    "\n",
    "    if epoch % 50 == 0 or epoch == epochs - 1:\n",
    "        valid_loss = 0\n",
    "        for j in range(valid_x.shape[0] - sequence_len):\n",
    "            seq_x = valid_x[j:(j+sequence_len),]\n",
    "            seq_y = valid_y[j:(j+sequence_len),]\n",
    "            _, outputs = forward(seq_x, layers)\n",
    "            valid_loss += mse(seq_y, outputs)\n",
    "\n",
    "        print(f\"Epoch: {epoch+1}\\t Train Loss: {epoch_loss / len(train_x)}\\t Val Loss: {valid_loss / len(valid_x)}\")"
   ]
  },
  {
   "cell_type": "markdown",
   "metadata": {
    "collapsed": false
   },
   "source": [
    "The network reduces training *and* validation loss over successive epochs.<br>\n",
    "Our literal implementation will perform similarly to the RNN implementation in Pytorch, but it will descend *way* more slowly.\n",
    "\n",
    "Anyway, let's see how our own, trained RNN performs on a test sequence:"
   ]
  },
  {
   "cell_type": "code",
   "execution_count": 53,
   "metadata": {},
   "outputs": [
    {
     "name": "stdout",
     "output_type": "stream",
     "text": [
      "Predicted: 64.20\tActual: 69.0\n",
      "Predicted: 59.75\tActual: 67.0\n",
      "Predicted: 70.65\tActual: 70.0\n",
      "Predicted: 61.25\tActual: 61.0\n",
      "Predicted: 69.33\tActual: 75.0\n",
      "Predicted: 63.64\tActual: 71.0\n",
      "Predicted: 81.96\tActual: 68.0\n",
      "Predicted: 66.84\tActual: 82.0\n",
      "Predicted: 62.35\tActual: 68.0\n",
      "Predicted: 62.57\tActual: 60.0\n",
      "Test loss: 38.4535\n"
     ]
    }
   ],
   "source": [
    "# Test the model on test_x, test_y\n",
    "test_loss = 0\n",
    "for j in range(test_x.shape[0] - sequence_len):\n",
    "    seq_x = test_x[j:(j+sequence_len),]\n",
    "    seq_y = test_y[j:(j+sequence_len),]\n",
    "    _, outputs = forward(seq_x, layers)\n",
    "    test_loss += mse(seq_y, outputs)\n",
    "    if j % int(test_x.shape[0] / 10) == 0:\n",
    "        print(f\"Predicted: {outputs[-1][0]:.2f}\\tActual: {seq_y[-1,0]}\")\n",
    "\n",
    "print(f\"Test loss: {test_loss / len(test_x):.4f}\")"
   ]
  },
  {
   "cell_type": "markdown",
   "metadata": {},
   "source": [
    "## Wrap-up\n",
    "\n",
    "We learned a lot in this lesson! You should now have a good idea of how to train a recurrent neural network.<br>\n",
    "If some of the concepts immediately, don't worry about it.<br>\n",
    "RNNs are *tricky*, and take multiple readings and hands-on trials to really understand.\n",
    "\n",
    "In the next lesson, we'll learn about how we can reduce test and validation error with regularization."
   ]
  }
 ],
 "metadata": {
  "kernelspec": {
   "display_name": "Python 3 (ipykernel)",
   "language": "python",
   "name": "python3"
  },
  "language_info": {
   "codemirror_mode": {
    "name": "ipython",
    "version": 3
   },
   "file_extension": ".py",
   "mimetype": "text/x-python",
   "name": "python",
   "nbconvert_exporter": "python",
   "pygments_lexer": "ipython3",
   "version": "3.12.2"
  }
 },
 "nbformat": 4,
 "nbformat_minor": 4
}
